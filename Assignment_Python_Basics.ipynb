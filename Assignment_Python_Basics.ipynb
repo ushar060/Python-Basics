{
  "nbformat": 4,
  "nbformat_minor": 0,
  "metadata": {
    "colab": {
      "provenance": []
    },
    "kernelspec": {
      "name": "python3",
      "display_name": "Python 3"
    },
    "language_info": {
      "name": "python"
    }
  },
  "cells": [
    {
      "cell_type": "markdown",
      "source": [
        "**Pyhton Basic Questions**"
      ],
      "metadata": {
        "id": "KbqFzbe61CbR"
      }
    },
    {
      "cell_type": "markdown",
      "source": [
        "**Ques1**\n",
        "Answer-\n",
        "Python is a high level, versatile programming language known for its simplicity and readability. It is popular due to its wide range of applications, including web development, data science, automation, and artificial intelligence. Its large community, extensive libraries, and beginner friendly syntax make it ideal for both new and experienced developers."
      ],
      "metadata": {
        "id": "UtVf2kktwJJS"
      }
    },
    {
      "cell_type": "markdown",
      "source": [
        "**Ques2**\n",
        "Answer-\n",
        "An interpreter in Python is a program that reads and executes Python code line by line. It translates high level Python instructions into machine code during runtime, allowing immediate execution. This makes Python easy to test and debug but can be slower than compiled languages.\n",
        "\n",
        "\n",
        "\n",
        "\n",
        "\n"
      ],
      "metadata": {
        "id": "_C-1wt-cwLbn"
      }
    },
    {
      "cell_type": "markdown",
      "source": [
        "**Ques3**\n",
        "Answer-\n",
        "Pre defined keywords in Python are reserved words that have special meanings and cannot be used as identifiers (like variable names). They define the syntax and structure of the language, such as if, else, while, for, def, class, True, False, None, and import."
      ],
      "metadata": {
        "id": "ZjZ46u0lwGc1"
      }
    },
    {
      "cell_type": "markdown",
      "source": [
        "**Ques4**\n",
        "Answer-\n",
        "No, keywords cannot be used as variable names in Python. They are reserved for specific language functions and syntax. Using them as variable names will result in a syntax error. For example:\n"
      ],
      "metadata": {
        "id": "v-_GxHxWx3Dr"
      }
    },
    {
      "cell_type": "code",
      "source": [
        "if= 5\n",
        "if"
      ],
      "metadata": {
        "colab": {
          "base_uri": "https://localhost:8080/",
          "height": 106
        },
        "id": "hhtUNj6PyInK",
        "outputId": "df4a5777-bf84-4b39-9442-1b720e7348bb"
      },
      "execution_count": 1,
      "outputs": [
        {
          "output_type": "error",
          "ename": "SyntaxError",
          "evalue": "invalid syntax (ipython-input-1-2605774109.py, line 1)",
          "traceback": [
            "\u001b[0;36m  File \u001b[0;32m\"/tmp/ipython-input-1-2605774109.py\"\u001b[0;36m, line \u001b[0;32m1\u001b[0m\n\u001b[0;31m    if= 5\u001b[0m\n\u001b[0m      ^\u001b[0m\n\u001b[0;31mSyntaxError\u001b[0m\u001b[0;31m:\u001b[0m invalid syntax\n"
          ]
        }
      ]
    },
    {
      "cell_type": "markdown",
      "source": [
        "**Ques5**\n",
        "Answer-\n",
        "Mutability in Python refers to whether an object’s value can be changed after it is created.\n",
        "\n",
        "Mutable objects (like lists, dictionaries, and sets) can be changed in place.\n",
        "\n",
        "Immutable objects (like strings, integers, and tuples) cannot be changed once created.\n",
        "\n",
        "Mutability affects how data is stored and passed in Python.\n"
      ],
      "metadata": {
        "id": "d9EUi5ePyVlb"
      }
    },
    {
      "cell_type": "markdown",
      "source": [
        "**Ques6**\n",
        "Answer-Lists are designed to allow changes like adding, removing, or updating elements. Tuples, on the other hand, are meant to be fixed collections, ensuring data integrity by preventing modification."
      ],
      "metadata": {
        "id": "ens5_glRyqPy"
      }
    },
    {
      "cell_type": "markdown",
      "source": [
        "**Ques7**\n",
        "Answer- == checks value equality (if two variables have the same value).\n",
        "\n",
        "is checks identity (if two variables point to the same object in memory)."
      ],
      "metadata": {
        "id": "zGUSmxf_y3_3"
      }
    },
    {
      "cell_type": "markdown",
      "source": [
        "**Ques8**\n",
        "Answer-Logical operators are used to combine conditional statements:\n",
        "\n",
        "and: True if both statements are true\n",
        "\n",
        "or: True if at least one statement is true\n",
        "\n",
        "not: Inverts the truth value"
      ],
      "metadata": {
        "id": "3eFclInUzvH4"
      }
    },
    {
      "cell_type": "markdown",
      "source": [
        "**Ques9**\n",
        "Answer-Type casting is converting one data type into another, like converting a string to an integer using int(\"5\").\n",
        "\n"
      ],
      "metadata": {
        "id": "HfDuKHgyz30X"
      }
    },
    {
      "cell_type": "markdown",
      "source": [
        "**Ques10**\n",
        "Answer-Implicit casting is done automatically by Python (e.g., int to float).\n",
        "\n",
        "Explicit casting is done manually by the programmer using functions like int(), float(), or str()."
      ],
      "metadata": {
        "id": "wcngUZe20AWQ"
      }
    },
    {
      "cell_type": "markdown",
      "source": [
        "**Ques11**\n",
        "Answer- Conditional statements (if, elif, else) let programs make decisions and execute specific code blocks based on whether conditions are true or false.\n",
        "\n"
      ],
      "metadata": {
        "id": "yFfOisk80Kxr"
      }
    },
    {
      "cell_type": "markdown",
      "source": [
        "**Ques12**\n",
        "Answer- elif (short for \"else if\") checks another condition if the previous if statement was false. It allows multiple conditions to be tested sequentially."
      ],
      "metadata": {
        "id": "kCWM09Ug0Zeh"
      }
    },
    {
      "cell_type": "markdown",
      "source": [
        "**Ques13**\n",
        "Answer- for loops iterate over a sequence (like a list or range) with a known number of iterations.\n",
        "\n",
        "while loops run as long as a condition is true, suitable for unknown iteration counts"
      ],
      "metadata": {
        "id": "su2f6MoF0fe6"
      }
    },
    {
      "cell_type": "markdown",
      "source": [
        "**Ques14**\n",
        "Answer- A while loop is better when the number of iterations isn't known in advance, like reading user input until they type \"exit\" or waiting for a sensor value to reach a threshold."
      ],
      "metadata": {
        "id": "pKikotxp0plu"
      }
    },
    {
      "cell_type": "markdown",
      "source": [
        "**Practical answer**\n"
      ],
      "metadata": {
        "id": "I2nnNlG90xQf"
      }
    },
    {
      "cell_type": "code",
      "source": [
        "#Ques1\n",
        "print(\"Hello, World!\")"
      ],
      "metadata": {
        "colab": {
          "base_uri": "https://localhost:8080/"
        },
        "id": "T1DEd-731Qg1",
        "outputId": "7b44e0e1-a28b-4a5e-9c68-98cc54474705"
      },
      "execution_count": 2,
      "outputs": [
        {
          "output_type": "stream",
          "name": "stdout",
          "text": [
            "Hello, World!\n"
          ]
        }
      ]
    },
    {
      "cell_type": "code",
      "source": [
        "#Ques2\n",
        "Name= \"Uday Sharma\"\n",
        "Age= 24\n",
        "print(\"my name is\", Name)\n",
        "print(\"I am\", Age, \"years old.\")"
      ],
      "metadata": {
        "colab": {
          "base_uri": "https://localhost:8080/"
        },
        "id": "ZobGod7D1bZc",
        "outputId": "f474f158-d1e5-448b-9061-1e259f9fdea1"
      },
      "execution_count": 10,
      "outputs": [
        {
          "output_type": "stream",
          "name": "stdout",
          "text": [
            "my name is Uday Sharma\n",
            "I am 24 years old.\n"
          ]
        }
      ]
    },
    {
      "cell_type": "code",
      "source": [
        "#Ques3\n",
        "print(\"Python Keywords:\")\n",
        "print(keyword.kwlist)\n",
        "\n"
      ],
      "metadata": {
        "colab": {
          "base_uri": "https://localhost:8080/"
        },
        "id": "zSHD7BTE1k_S",
        "outputId": "0ce937a4-5f89-4269-d53f-766bfa51e143"
      },
      "execution_count": 14,
      "outputs": [
        {
          "output_type": "stream",
          "name": "stdout",
          "text": [
            "Python Keywords:\n",
            "['False', 'None', 'True', 'and', 'as', 'assert', 'async', 'await', 'break', 'class', 'continue', 'def', 'del', 'elif', 'else', 'except', 'finally', 'for', 'from', 'global', 'if', 'import', 'in', 'is', 'lambda', 'nonlocal', 'not', 'or', 'pass', 'raise', 'return', 'try', 'while', 'with', 'yield']\n"
          ]
        }
      ]
    },
    {
      "cell_type": "code",
      "source": [
        "#Ques4\n",
        "word = input(\"Enter a word: \")\n",
        "\n",
        "# Check if the word is a Python keyword\n",
        "if keyword.iskeyword(word):\n",
        "    print(f\"'{word}' is a Python keyword.\")\n",
        "else:\n",
        "    print(f\"'{word}' is NOT a Python keyword.\")"
      ],
      "metadata": {
        "colab": {
          "base_uri": "https://localhost:8080/"
        },
        "id": "Z3HhZFdG30Vo",
        "outputId": "71aa8074-531a-4790-cb80-ecb4f6cac966"
      },
      "execution_count": 16,
      "outputs": [
        {
          "output_type": "stream",
          "name": "stdout",
          "text": [
            "Enter a word: hello\n",
            "'hello' is NOT a Python keyword.\n"
          ]
        }
      ]
    },
    {
      "cell_type": "code",
      "source": [
        "#Ques5\n",
        "# Create a list and a tuple\n",
        "my_list = [10, 20, 30]\n",
        "my_tuple = (10, 20, 30)\n",
        "\n",
        "# Modify an element in the list\n",
        "my_list[1] = 99\n",
        "print(\"Modified list:\", my_list)\n",
        "\n",
        "# Attempt to modify an element in the tuple\n",
        "try:\n",
        "    my_tuple[1] = 99\n",
        "except TypeError as e:\n",
        "    print(\"Error modifying tuple:\", e)\n",
        ""
      ],
      "metadata": {
        "colab": {
          "base_uri": "https://localhost:8080/"
        },
        "id": "rcgLj4hQ4aY_",
        "outputId": "f2067384-6b4b-4504-d449-e476c82c0b1e"
      },
      "execution_count": 17,
      "outputs": [
        {
          "output_type": "stream",
          "name": "stdout",
          "text": [
            "Modified list: [10, 99, 30]\n",
            "Error modifying tuple: 'tuple' object does not support item assignment\n"
          ]
        }
      ]
    },
    {
      "cell_type": "code",
      "source": [
        "#Ques6\n",
        "def modify_values(num, my_list):\n",
        "    num += 10           # Attempt to modify immutable (int)\n",
        "    my_list.append(99)  # Modify mutable (list)\n",
        "    print(\"Inside function - num:\", num)\n",
        "    print(\"Inside function - my_list:\", my_list)\n",
        "\n",
        "# Immutable argument (int)\n",
        "x = 5\n",
        "\n",
        "# Mutable argument (list)\n",
        "lst = [1, 2, 3]\n",
        "\n",
        "modify_values(x, lst)\n",
        "\n",
        "print(\"Outside function - x:\", x)\n",
        "print(\"Outside function - lst:\", lst)"
      ],
      "metadata": {
        "colab": {
          "base_uri": "https://localhost:8080/"
        },
        "id": "Zdx8mNWY48JV",
        "outputId": "3ef96479-e917-4ed2-e587-a278d2103fc3"
      },
      "execution_count": 18,
      "outputs": [
        {
          "output_type": "stream",
          "name": "stdout",
          "text": [
            "Inside function - num: 15\n",
            "Inside function - my_list: [1, 2, 3, 99]\n",
            "Outside function - x: 5\n",
            "Outside function - lst: [1, 2, 3, 99]\n"
          ]
        }
      ]
    },
    {
      "cell_type": "code",
      "source": [
        "#Ques 7\n",
        "# Get user input\n",
        "num1 = float(input(\"Enter the first number: \"))\n",
        "num2 = float(input(\"Enter the second number: \"))\n",
        "\n",
        "# Perform arithmetic operations\n",
        "print(\"Addition:\", num1 + num2)\n",
        "print(\"Subtraction:\", num1 - num2)\n",
        "print(\"Multiplication:\", num1 * num2)\n",
        "\n",
        "# Check for division by zero\n",
        "if num2 != 0:\n",
        "    print(\"Division:\", num1 / num2)\n",
        "else:\n",
        "    print(\"Division: Cannot divide by zero\")"
      ],
      "metadata": {
        "colab": {
          "base_uri": "https://localhost:8080/"
        },
        "id": "t6KlIwwS6jK1",
        "outputId": "598ef71d-41a0-4614-9a60-1b6eb26dea28"
      },
      "execution_count": 20,
      "outputs": [
        {
          "output_type": "stream",
          "name": "stdout",
          "text": [
            "Enter the first number: 1\n",
            "Enter the second number: 2\n",
            "Addition: 3.0\n",
            "Subtraction: -1.0\n",
            "Multiplication: 2.0\n",
            "Division: 0.5\n"
          ]
        }
      ]
    },
    {
      "cell_type": "code",
      "source": [
        "#Ques8\n",
        "# Input from the user\n",
        "age = int(input(\"Enter your age: \"))\n",
        "has_id = input(\"Do you have a valid ID? (yes/no): \").lower()\n",
        "\n",
        "# Using logical AND\n",
        "if age >= 18 and has_id == \"yes\":\n",
        "    print(\"Access granted.\")\n",
        "else:\n",
        "    print(\"Access denied.\")\n",
        "\n",
        "# Using logical OR\n",
        "if age >= 18 or has_id == \"yes\":\n",
        "    print(\"Partial access may be granted.\")\n",
        "\n",
        "# Using logical NOT\n",
        "if not (age < 18):\n",
        "    print(\"You are an adult.\")"
      ],
      "metadata": {
        "colab": {
          "base_uri": "https://localhost:8080/"
        },
        "id": "aYZBoImF61jm",
        "outputId": "db9afc3c-ddc0-4bf4-f152-87cd5e127b0d"
      },
      "execution_count": 21,
      "outputs": [
        {
          "output_type": "stream",
          "name": "stdout",
          "text": [
            "Enter your age: 24\n",
            "Do you have a valid ID? (yes/no): yes\n",
            "Access granted.\n",
            "Partial access may be granted.\n",
            "You are an adult.\n"
          ]
        }
      ]
    },
    {
      "cell_type": "code",
      "source": [
        "#Ques9\n",
        "# Get user input as a string\n",
        "user_input = input(\"Enter a value: \")\n",
        "\n",
        "# Convert to integer\n",
        "try:\n",
        "    int_value = int(user_input)\n",
        "    print(\"Integer:\", int_value)\n",
        "except ValueError:\n",
        "    print(\"Cannot convert to integer.\")\n",
        "\n",
        "# Convert to float\n",
        "try:\n",
        "    float_value = float(user_input)\n",
        "    print(\"Float:\", float_value)\n",
        "except ValueError:\n",
        "    print(\"Cannot convert to float.\")\n",
        "\n",
        "# Convert to boolean\n",
        "bool_value = bool(user_input.strip())  # Non-empty string is True\n",
        "print(\"Boolean:\", bool_value)\n"
      ],
      "metadata": {
        "colab": {
          "base_uri": "https://localhost:8080/"
        },
        "id": "ZUg8_es47yD5",
        "outputId": "94664151-913f-4953-c1d7-b37fe417ae22"
      },
      "execution_count": 22,
      "outputs": [
        {
          "output_type": "stream",
          "name": "stdout",
          "text": [
            "Enter a value: 10\n",
            "Integer: 10\n",
            "Float: 10.0\n",
            "Boolean: True\n"
          ]
        }
      ]
    },
    {
      "cell_type": "code",
      "source": [
        "#Ques10\n",
        "# List of numbers as strings\n",
        "string_list = ['1', '2', '3']\n",
        "\n",
        "# Convert string elements to integers\n",
        "int_list = [int(x) for x in string_list]\n",
        "\n",
        "# Convert string elements to floats\n",
        "float_list = [float(x) for x in string_list]\n",
        "\n",
        "# Convert integers back to strings\n",
        "string_again = [str(x) for x in int_list]\n",
        "\n",
        "# Print results\n",
        "print(\"Original string list:\", string_list)\n",
        "print(\"Converted to integers:\", int_list)\n",
        "print(\"Converted to floats:\", float_list)\n",
        "print(\"Integers back to strings:\", string_again)"
      ],
      "metadata": {
        "colab": {
          "base_uri": "https://localhost:8080/"
        },
        "id": "4ZHWEVG98nRy",
        "outputId": "fabe39ba-8492-48b0-f08a-5152de537757"
      },
      "execution_count": 23,
      "outputs": [
        {
          "output_type": "stream",
          "name": "stdout",
          "text": [
            "Original string list: ['1', '2', '3']\n",
            "Converted to integers: [1, 2, 3]\n",
            "Converted to floats: [1.0, 2.0, 3.0]\n",
            "Integers back to strings: ['1', '2', '3']\n"
          ]
        }
      ]
    },
    {
      "cell_type": "code",
      "source": [
        "#Ques11\n",
        "# Get input from the user\n",
        "num = float(input(\"Enter a number: \"))\n",
        "\n",
        "# Check if the number is positive, negative, or zero\n",
        "if num > 0:\n",
        "    print(\"The number is positive.\")\n",
        "elif num < 0:\n",
        "    print(\"The number is negative.\")\n",
        "else:\n",
        "    print(\"The number is zero.\")"
      ],
      "metadata": {
        "colab": {
          "base_uri": "https://localhost:8080/"
        },
        "id": "BucKgiNe9AHa",
        "outputId": "5f8bba03-c55e-4326-d463-34bdc49aff89"
      },
      "execution_count": 26,
      "outputs": [
        {
          "output_type": "stream",
          "name": "stdout",
          "text": [
            "Enter a number: 1\n",
            "The number is positive.\n"
          ]
        }
      ]
    },
    {
      "cell_type": "code",
      "source": [
        "#Ques12\n",
        "for i in range(1, 11):\n",
        "    print(i)\n"
      ],
      "metadata": {
        "colab": {
          "base_uri": "https://localhost:8080/"
        },
        "id": "xGUUTRId9CDv",
        "outputId": "0ee6151a-e64e-4007-849a-262be4b5172b"
      },
      "execution_count": 27,
      "outputs": [
        {
          "output_type": "stream",
          "name": "stdout",
          "text": [
            "1\n",
            "2\n",
            "3\n",
            "4\n",
            "5\n",
            "6\n",
            "7\n",
            "8\n",
            "9\n",
            "10\n"
          ]
        }
      ]
    },
    {
      "cell_type": "code",
      "source": [
        "#QUes13\n",
        "even_sum = 0\n",
        "\n",
        "# Loop through numbers from 1 to 50\n",
        "for i in range(1, 51):\n",
        "    if i % 2 == 0:\n",
        "        even_sum += i\n",
        "\n",
        "# Print the result\n",
        "print(\"Sum of even numbers from 1 to 50 is:\", even_sum)\n"
      ],
      "metadata": {
        "colab": {
          "base_uri": "https://localhost:8080/"
        },
        "id": "WZGdABZj9dnn",
        "outputId": "03ef0bb1-370f-489d-c812-35097124ba6d"
      },
      "execution_count": 28,
      "outputs": [
        {
          "output_type": "stream",
          "name": "stdout",
          "text": [
            "Sum of even numbers from 1 to 50 is: 650\n"
          ]
        }
      ]
    },
    {
      "cell_type": "code",
      "source": [
        "#Ques14\n",
        "# Get input from the user\n",
        "text = input(\"Enter a string: \")\n",
        "\n",
        "# Initialize variables\n",
        "reversed_text = \"\"\n",
        "index = len(text) - 1\n",
        "\n",
        "# Reverse the string using while loop\n",
        "while index >= 0:\n",
        "    reversed_text += text[index]\n",
        "    index -= 1\n",
        "\n",
        "# Print the reversed string\n",
        "print(\"Reversed string:\", reversed_text)\n"
      ],
      "metadata": {
        "colab": {
          "base_uri": "https://localhost:8080/"
        },
        "id": "ZcSDljaL9nUn",
        "outputId": "93d3a5d9-74bd-4521-ec86-12871246f5d5"
      },
      "execution_count": 29,
      "outputs": [
        {
          "output_type": "stream",
          "name": "stdout",
          "text": [
            "Enter a string: 12345\n",
            "Reversed string: 54321\n"
          ]
        }
      ]
    },
    {
      "cell_type": "code",
      "source": [
        "#Ques15\n",
        "# Get input from the user\n",
        "num = int(input(\"Enter a number: \"))\n",
        "\n",
        "# Initialize variables\n",
        "factorial = 1\n",
        "i = 1\n",
        "\n",
        "# Check for valid input\n",
        "if num < 0:\n",
        "    print(\"Factorial is not defined for negative numbers.\")\n",
        "else:\n",
        "    while i <= num:\n",
        "        factorial *= i\n",
        "        i += 1\n",
        "    print(f\"The factorial of {num} is: {factorial}\")\n",
        ""
      ],
      "metadata": {
        "colab": {
          "base_uri": "https://localhost:8080/"
        },
        "id": "UdpfTyi99wnc",
        "outputId": "473f6bc6-7fa4-4610-f88d-f24ab6a4296d"
      },
      "execution_count": 30,
      "outputs": [
        {
          "output_type": "stream",
          "name": "stdout",
          "text": [
            "Enter a number: 15\n",
            "The factorial of 15 is: 1307674368000\n"
          ]
        }
      ]
    }
  ]
}